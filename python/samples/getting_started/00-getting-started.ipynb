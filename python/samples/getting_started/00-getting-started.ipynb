{
 "cells": [
  {
   "attachments": {},
   "cell_type": "markdown",
   "metadata": {},
   "source": [
    "# Setup\n",
    "\n",
    "Import Semantic Kernel SDK from pypi.org"
   ]
  },
  {
   "cell_type": "code",
   "execution_count": null,
   "metadata": {},
   "outputs": [],
   "source": [
    "# Note: if using a virtual environment, do not run this cell\n",
    "%pip install -U semantic-kernel\n",
    "from semantic_kernel import __version__\n",
    "\n",
    "__version__"
   ]
  },
  {
   "cell_type": "markdown",
   "metadata": {},
   "source": [
    "Initial configuration for the notebook to run properly."
   ]
  },
  {
   "cell_type": "code",
   "execution_count": 2,
   "metadata": {},
   "outputs": [],
   "source": [
    "# Make sure paths are correct for the imports\n",
    "\n",
    "import os\n",
    "import sys\n",
    "\n",
    "notebook_dir = os.path.abspath(\"\")\n",
    "parent_dir = os.path.dirname(notebook_dir)\n",
    "grandparent_dir = os.path.dirname(parent_dir)\n",
    "\n",
    "\n",
    "sys.path.append(grandparent_dir)"
   ]
  },
  {
   "cell_type": "markdown",
   "metadata": {},
   "source": [
    "### Configuring the Kernel\n",
    "\n",
    "Let's get started with the necessary configuration to run Semantic Kernel. For Notebooks, we require a `.env` file with the proper settings for the model you use. Create a new file named `.env` and place it in this directory. Copy the contents of the `.env.example` file from this directory and paste it into the `.env` file that you just created.\n",
    "\n",
    "**NOTE: Please make sure to include `GLOBAL_LLM_SERVICE` set to either OpenAI, AzureOpenAI, or HuggingFace in your .env file. If this setting is not included, the Service will default to AzureOpenAI.**\n",
    "\n",
    "#### Option 1: using OpenAI\n",
    "\n",
    "Add your [OpenAI Key](https://openai.com/product/) key to your `.env` file (org Id only if you have multiple orgs):\n",
    "\n",
    "```\n",
    "GLOBAL_LLM_SERVICE=\"OpenAI\"\n",
    "OPENAI_API_KEY=\"sk-...\"\n",
    "OPENAI_ORG_ID=\"\"\n",
    "OPENAI_CHAT_MODEL_ID=\"\"\n",
    "OPENAI_TEXT_MODEL_ID=\"\"\n",
    "OPENAI_EMBEDDING_MODEL_ID=\"\"\n",
    "```\n",
    "The names should match the names used in the `.env` file, as shown above.\n",
    "\n",
    "#### Option 2: using Azure OpenAI\n",
    "\n",
    "Add your [Azure Open AI Service key](https://learn.microsoft.com/azure/cognitive-services/openai/quickstart?pivots=programming-language-studio) settings to the `.env` file in the same folder:\n",
    "\n",
    "```\n",
    "GLOBAL_LLM_SERVICE=\"AzureOpenAI\"\n",
    "AZURE_OPENAI_API_KEY=\"...\"\n",
    "AZURE_OPENAI_ENDPOINT=\"https://...\"\n",
    "AZURE_OPENAI_CHAT_DEPLOYMENT_NAME=\"...\"\n",
    "AZURE_OPENAI_TEXT_DEPLOYMENT_NAME=\"...\"\n",
    "AZURE_OPENAI_EMBEDDING_DEPLOYMENT_NAME=\"...\"\n",
    "AZURE_OPENAI_API_VERSION=\"...\"\n",
    "```\n",
    "The names should match the names used in the `.env` file, as shown above.\n",
    "\n",
    "For more advanced configuration, please follow the steps outlined in the [setup guide](./CONFIGURING_THE_KERNEL.md)."
   ]
  },
  {
   "cell_type": "markdown",
   "metadata": {},
   "source": [
    "Let's define our kernel for this example."
   ]
  },
  {
   "cell_type": "code",
   "execution_count": 9,
   "metadata": {},
   "outputs": [],
   "source": [
    "from semantic_kernel import Kernel\n",
    "\n",
    "kernel = Kernel()"
   ]
  },
  {
   "cell_type": "markdown",
   "metadata": {},
   "source": [
    "We will load our settings and get the LLM service to use for the notebook."
   ]
  },
  {
   "cell_type": "code",
   "execution_count": 10,
   "metadata": {},
   "outputs": [
    {
     "name": "stdout",
     "output_type": "stream",
     "text": [
      "Using service type: Service.AzureOpenAI\n"
     ]
    }
   ],
   "source": [
    "from services import Service\n",
    "\n",
    "from samples.service_settings import ServiceSettings\n",
    "\n",
    "service_settings = ServiceSettings.create()\n",
    "\n",
    "# Select a service to use for this notebook (available services: OpenAI, AzureOpenAI, HuggingFace)\n",
    "selectedService = (\n",
    "    Service.AzureOpenAI\n",
    "    if service_settings.global_llm_service is None\n",
    "    else Service(service_settings.global_llm_service.lower())\n",
    ")\n",
    "print(f\"Using service type: {selectedService}\")"
   ]
  },
  {
   "cell_type": "markdown",
   "metadata": {},
   "source": [
    "We now configure our Chat Completion service on the kernel."
   ]
  },
  {
   "cell_type": "code",
   "execution_count": 11,
   "metadata": {},
   "outputs": [],
   "source": [
    "# Remove all services so that this cell can be re-run without restarting the kernel\n",
    "kernel.remove_all_services()\n",
    "\n",
    "service_id = None\n",
    "if selectedService == Service.OpenAI:\n",
    "    from semantic_kernel.connectors.ai.open_ai import OpenAIChatCompletion\n",
    "\n",
    "    service_id = \"default\"\n",
    "    kernel.add_service(\n",
    "        OpenAIChatCompletion(\n",
    "            service_id=service_id,\n",
    "        ),\n",
    "    )\n",
    "elif selectedService == Service.AzureOpenAI:\n",
    "    from semantic_kernel.connectors.ai.open_ai import AzureChatCompletion\n",
    "\n",
    "    service_id = \"default\"\n",
    "    kernel.add_service(\n",
    "        AzureChatCompletion(\n",
    "            service_id=service_id,\n",
    "        ),\n",
    "    )"
   ]
  },
  {
   "attachments": {},
   "cell_type": "markdown",
   "metadata": {},
   "source": [
    "# Run a Semantic Function\n",
    "\n",
    "**Step 3**: Load a Plugin and run a semantic function:\n"
   ]
  },
  {
   "cell_type": "code",
   "execution_count": 12,
   "metadata": {},
   "outputs": [],
   "source": [
    "plugin = kernel.add_plugin(parent_directory=\"../../../prompt_template_samples/\", plugin_name=\"CompanyPlugin\")"
   ]
  },
  {
   "cell_type": "code",
   "execution_count": 13,
   "metadata": {},
   "outputs": [
    {
     "name": "stdout",
     "output_type": "stream",
     "text": [
      "Bayer AG is a German multinational pharmaceutical and life sciences company with a rich history that dates back to the 19th century. It is one of the largest pharmaceutical companies in the world and is known for its contributions to healthcare and agriculture.\n",
      "\n",
      "**Founding Date and Founders:**\n",
      "Bayer was founded on August 1, 1863, by Friedrich Bayer and Johann Friedrich Weskott in Barmen, which is now part of Wuppertal, Germany. Initially, the company focused on the production of synthetic dyes, which were in high demand during the industrial revolution.\n",
      "\n",
      "**Major Milestones and Achievements:**\n",
      "\n",
      "1. **Aspirin Development (1899):** One of Bayer's most significant achievements was the development of Aspirin. In 1899, Bayer registered Aspirin as a trademark, and it became one of the most widely used medications for pain relief and inflammation.\n",
      "\n",
      "2. **Expansion into Pharmaceuticals (Early 20th Century):** Bayer expanded its product line to include pharmaceuticals, with a focus on developing new drugs and treatments. This period marked the company's transition from a dye manufacturer to a pharmaceutical giant.\n",
      "\n",
      "3. **World War I and II Impact:** During both World Wars, Bayer's operations were significantly affected. After World War I, the company was forced to relinquish its foreign assets as part of the Treaty of Versailles. During World War II, Bayer was part of IG Farben, a conglomerate that was later dissolved due to its involvement in war crimes.\n",
      "\n",
      "4. **Post-War Rebuilding (1950s-1960s):** After the dissolution of IG Farben, Bayer re-emerged as an independent company and focused on rebuilding its reputation and business. The company expanded its research and development efforts, leading to the introduction of new pharmaceuticals and chemicals.\n",
      "\n",
      "5. **Diversification and Global Expansion (Late 20th Century):** Bayer diversified its operations by entering the agricultural sector, developing crop protection products, and acquiring companies to strengthen its market position. The company also expanded globally, establishing a presence in key markets around the world.\n",
      "\n",
      "6. **Acquisition of Monsanto (2018):** One of the most significant developments in Bayer's recent history was the acquisition of Monsanto, a leading American agrochemical and agricultural biotechnology corporation, for $63 billion. This acquisition positioned Bayer as a leader in the agricultural sector but also brought challenges, including legal issues related to Monsanto's product, Roundup.\n",
      "\n",
      "**Significant Changes and Developments Over Time:**\n",
      "\n",
      "- **Focus on Innovation:** Throughout its history, Bayer has maintained a strong focus on research and development, investing heavily in innovation to bring new products to market. This commitment has led to numerous breakthroughs in pharmaceuticals, consumer health, and agriculture.\n",
      "\n",
      "- **Sustainability Initiatives:** In recent years, Bayer has emphasized sustainability, aiming to address global challenges such as climate change and food security. The company has set ambitious goals to reduce its environmental impact and promote sustainable agricultural practices.\n",
      "\n",
      "- **Legal and Ethical Challenges:** Bayer has faced various legal and ethical challenges, particularly related to its acquisition of Monsanto and the associated litigation over glyphosate, the active ingredient in Roundup. The company has been involved in numerous lawsuits and has worked to resolve these issues while maintaining its commitment to safety and compliance.\n",
      "\n",
      "Overall, Bayer's history is marked by innovation, resilience, and a commitment to improving health and well-being. The company continues to play a significant role in the pharmaceutical and agricultural industries, leveraging its expertise to address some of the world's most pressing challenges.\n"
     ]
    }
   ],
   "source": [
    "from semantic_kernel.functions import KernelArguments\n",
    "\n",
    "history_function = plugin[\"History\"]\n",
    "\n",
    "history = await kernel.invoke(\n",
    "    history_function,\n",
    "    KernelArguments(company_name=\"Bayer\"),\n",
    ")\n",
    "print(history)"
   ]
  },
  {
   "cell_type": "code",
   "execution_count": null,
   "metadata": {},
   "outputs": [],
   "source": []
  }
 ],
 "metadata": {
  "kernelspec": {
   "display_name": "llm",
   "language": "python",
   "name": "python3"
  },
  "language_info": {
   "codemirror_mode": {
    "name": "ipython",
    "version": 3
   },
   "file_extension": ".py",
   "mimetype": "text/x-python",
   "name": "python",
   "nbconvert_exporter": "python",
   "pygments_lexer": "ipython3",
   "version": "3.10.14"
  }
 },
 "nbformat": 4,
 "nbformat_minor": 2
}
